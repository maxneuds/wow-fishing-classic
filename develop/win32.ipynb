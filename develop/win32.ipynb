{
 "cells": [
  {
   "cell_type": "code",
   "execution_count": 7,
   "id": "5d13ddad",
   "metadata": {},
   "outputs": [],
   "source": [
    "import win32gui\n",
    "\n",
    "WINDOW_NAME = 'World of Warcraft'\n",
    "window = win32gui.FindWindow(None, WINDOW_NAME)\n",
    "\n",
    "if window:\n",
    "    win32gui.SetForegroundWindow(window)\n",
    "    left, top, right, bottom = win32gui.GetWindowRect(window)\n",
    "    print(f\"Window position: ({left}, {top}), size: ({right - left}x{bottom - top})\")"
   ]
  }
 ],
 "metadata": {
  "kernelspec": {
   "display_name": "wow-fishing-classic-QkJzu9Ao-py3.13",
   "language": "python",
   "name": "python3"
  },
  "language_info": {
   "codemirror_mode": {
    "name": "ipython",
    "version": 3
   },
   "file_extension": ".py",
   "mimetype": "text/x-python",
   "name": "python",
   "nbconvert_exporter": "python",
   "pygments_lexer": "ipython3",
   "version": "3.13.5"
  }
 },
 "nbformat": 4,
 "nbformat_minor": 5
}
