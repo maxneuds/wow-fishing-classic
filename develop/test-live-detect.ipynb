{
 "cells": [
  {
   "cell_type": "code",
   "execution_count": 8,
   "id": "68e3e306",
   "metadata": {},
   "outputs": [
    {
     "name": "stdout",
     "output_type": "stream",
     "text": [
      "\n",
      "0: 384x640 (no detections), 24.1ms\n",
      "Speed: 11.5ms preprocess, 24.1ms inference, 3.2ms postprocess per image at shape (1, 3, 384, 640)\n"
     ]
    }
   ],
   "source": [
    "import mss\n",
    "import numpy as np\n",
    "import cv2\n",
    "import json\n",
    "import os\n",
    "from ultralytics import YOLO\n",
    "\n",
    "with open(\"config.json\", \"r\") as f:\n",
    "    config = json.load(f)\n",
    "os.chdir(config[\"workdir\"])\n",
    "\n",
    "model = YOLO(\"models/yolo11s-wow-fishing-classic.pt\")\n",
    "\n",
    "with mss.mss() as sct:\n",
    "    window = sct.monitors[0]\n",
    "    monitor = {\"top\": 10, \"left\": 1, \"width\": 1598, \"height\": 896}\n",
    "    img = np.array(sct.grab(monitor))[:, :, :3]\n",
    "    cv2.imwrite(\"test.png\", cv2.cvtColor(img, cv2.COLOR_RGB2BGR))\n",
    "    results = model(img)\n",
    "    results[0].show()\n"
   ]
  }
 ],
 "metadata": {
  "kernelspec": {
   "display_name": "wow-fishing-classic-QkJzu9Ao-py3.13",
   "language": "python",
   "name": "python3"
  },
  "language_info": {
   "codemirror_mode": {
    "name": "ipython",
    "version": 3
   },
   "file_extension": ".py",
   "mimetype": "text/x-python",
   "name": "python",
   "nbconvert_exporter": "python",
   "pygments_lexer": "ipython3",
   "version": "3.13.5"
  }
 },
 "nbformat": 4,
 "nbformat_minor": 5
}
