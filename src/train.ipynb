{
 "cells": [
  {
   "cell_type": "markdown",
   "id": "34e1f661",
   "metadata": {},
   "source": [
    "## Train"
   ]
  },
  {
   "cell_type": "code",
   "execution_count": null,
   "id": "a9f196c6",
   "metadata": {},
   "outputs": [],
   "source": [
    "import os\n",
    "import json\n",
    "import torch\n",
    "from logger import logger\n",
    "from ultralytics import YOLO\n",
    "\n",
    "\n",
    "# Check if ROCm-compatible GPU is available\n",
    "logger.info(f\"PyTorch version: {torch.__version__}\")\n",
    "logger.info(f\"GPU available: {torch.cuda.is_available()}\")\n",
    "if torch.cuda.is_available():\n",
    "    logger.info(f\"Device count: {torch.cuda.device_count()}\")\n",
    "    logger.info(f\"Current device index: {torch.cuda.current_device()}\")\n",
    "    logger.info(f\"Device name: {torch.cuda.get_device_name(0)}\")\n",
    "    logger.info(f\"Device capability: {torch.cuda.get_device_capability(0)}\")\n",
    "else:\n",
    "    logger.warning(f\"No compatible GPU detected use CPU.\")\n",
    "\n",
    "with open(\"config.json\", \"r\") as f:\n",
    "    config = json.load(f)\n",
    "os.chdir(config[\"workdir\"])\n",
    "model = YOLO(\"models/yolo11s.pt\")\n",
    "model.train(data=\"yolo-config.yaml\", epochs=50, imgsz=960, device=\"0\", batch=8)\n",
    "model.save(\"models/yolo11s-wow-fishing-classic.pt\")\n",
    "logger.info(f\"Done.\")"
   ]
  },
  {
   "cell_type": "markdown",
   "id": "ea6dbbcc",
   "metadata": {},
   "source": [
    "## Train-Val-Test Split"
   ]
  },
  {
   "cell_type": "code",
   "execution_count": 3,
   "id": "f184f150",
   "metadata": {},
   "outputs": [
    {
     "name": "stderr",
     "output_type": "stream",
     "text": [
      "[10:10:41] [INFO ] [3786104586.py:48]  ✅ Dataset successfully split into train/val/test\n"
     ]
    }
   ],
   "source": [
    "import random\n",
    "import shutil\n",
    "import json\n",
    "import os\n",
    "from pathlib import Path\n",
    "from logger import logger\n",
    "\n",
    "with open(\"config.json\", \"r\") as f:\n",
    "    config = json.load(f)\n",
    "os.chdir(config[\"workdir\"])\n",
    "\n",
    "# Configuration\n",
    "DATA_DIR = Path(\"datasets/wow-fishing-classic\")\n",
    "IMAGE_DIR = DATA_DIR / \"images\"\n",
    "LABEL_DIR = DATA_DIR / \"labels\"\n",
    "SPLITS = {\"train\": 0.8, \"val\": 0.1, \"test\": 0.1}\n",
    "IMG_EXTENSIONS = [\".jpg\", \".jpeg\", \".png\"]\n",
    "\n",
    "# Create destination folders\n",
    "for split in SPLITS:\n",
    "    (IMAGE_DIR / split).mkdir(parents=True, exist_ok=True)\n",
    "    (LABEL_DIR / split).mkdir(parents=True, exist_ok=True)\n",
    "\n",
    "# Gather all images\n",
    "image_files = [f for f in IMAGE_DIR.glob(\"*\") if f.suffix.lower() in IMG_EXTENSIONS]\n",
    "random.shuffle(image_files)\n",
    "\n",
    "# Calculate split sizes\n",
    "total = len(image_files)\n",
    "n_train = int(SPLITS[\"train\"] * total)\n",
    "n_val = int(SPLITS[\"val\"] * total)\n",
    "n_test = total - n_train - n_val\n",
    "\n",
    "splits = {\n",
    "    \"train\": image_files[:n_train],\n",
    "    \"val\": image_files[n_train:n_train + n_val],\n",
    "    \"test\": image_files[n_train + n_val:]\n",
    "}\n",
    "\n",
    "# Move files\n",
    "for split_name, files in splits.items():\n",
    "    for img_path in files:\n",
    "        label_path = LABEL_DIR / img_path.with_suffix(\".txt\").name\n",
    "        shutil.move(str(img_path), str(IMAGE_DIR / split_name / img_path.name))\n",
    "        if label_path.exists():\n",
    "            shutil.move(str(label_path), str(LABEL_DIR / split_name / label_path.name))\n",
    "\n",
    "logger.info(\"✅ Dataset successfully split into train/val/test\")\n"
   ]
  }
 ],
 "metadata": {
  "kernelspec": {
   "display_name": "wow-fishing-classic-QkJzu9Ao-py3.13",
   "language": "python",
   "name": "python3"
  },
  "language_info": {
   "codemirror_mode": {
    "name": "ipython",
    "version": 3
   },
   "file_extension": ".py",
   "mimetype": "text/x-python",
   "name": "python",
   "nbconvert_exporter": "python",
   "pygments_lexer": "ipython3",
   "version": "3.13.5"
  }
 },
 "nbformat": 4,
 "nbformat_minor": 5
}
