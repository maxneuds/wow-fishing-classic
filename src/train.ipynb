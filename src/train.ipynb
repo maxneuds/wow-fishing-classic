{
 "cells": [
  {
   "cell_type": "code",
   "execution_count": 1,
   "id": "eebcaa05",
   "metadata": {},
   "outputs": [
    {
     "name": "stdout",
     "output_type": "stream",
     "text": [
      "PyTorch version: 2.7.1+cu128\n",
      "GPU available: True\n",
      "Device count: 1\n",
      "Current device index: 0\n",
      "Device name: NVIDIA GeForce RTX 3060 Ti\n",
      "Device capability: (8, 6)\n"
     ]
    }
   ],
   "source": [
    "import torch\n",
    "\n",
    "print(\"PyTorch version:\", torch.__version__)\n",
    "\n",
    "# Check if ROCm-compatible GPU is available\n",
    "print(\"GPU available:\", torch.cuda.is_available())\n",
    "\n",
    "if torch.cuda.is_available():\n",
    "    print(\"Device count:\", torch.cuda.device_count())\n",
    "    print(\"Current device index:\", torch.cuda.current_device())\n",
    "    print(\"Device name:\", torch.cuda.get_device_name(0))\n",
    "    print(\"Device capability:\", torch.cuda.get_device_capability(0))\n",
    "else:\n",
    "    print(\"No compatible GPU detected.\")"
   ]
  },
  {
   "cell_type": "markdown",
   "id": "34e1f661",
   "metadata": {},
   "source": [
    "## Train"
   ]
  },
  {
   "cell_type": "code",
   "execution_count": null,
   "id": "a9f196c6",
   "metadata": {},
   "outputs": [],
   "source": [
    "from ultralytics import YOLO\n",
    "import os\n",
    "import json\n",
    "\n",
    "with open(\"config.json\", \"r\") as f:\n",
    "    config = json.load(f)\n",
    "os.chdir(config[\"workdir\"])\n",
    "model = YOLO(\"models/yolo11s.pt\")\n",
    "model.train(data=\"yolo-config.yaml\", epochs=40, imgsz=960, device=\"0\")\n",
    "model.save(\"models/yolo11s-wow-fishing-classic.pt\")"
   ]
  }
 ],
 "metadata": {
  "kernelspec": {
   "display_name": "wow-fishing-classic-QkJzu9Ao-py3.13",
   "language": "python",
   "name": "python3"
  },
  "language_info": {
   "codemirror_mode": {
    "name": "ipython",
    "version": 3
   },
   "file_extension": ".py",
   "mimetype": "text/x-python",
   "name": "python",
   "nbconvert_exporter": "python",
   "pygments_lexer": "ipython3",
   "version": "3.13.5"
  }
 },
 "nbformat": 4,
 "nbformat_minor": 5
}
